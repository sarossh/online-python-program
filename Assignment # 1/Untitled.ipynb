{
 "cells": [
  {
   "cell_type": "code",
   "execution_count": 1,
   "id": "f153b6be",
   "metadata": {},
   "outputs": [
    {
     "name": "stdout",
     "output_type": "stream",
     "text": [
      "twinkle twinkle little star how i wonder what you are up above the world so high like a diamond in the sky twinkle twinkle little star how i wonder what you are \n"
     ]
    }
   ],
   "source": [
    "print(\"twinkle twinkle little star how i wonder what you are up above the world so high like a diamond in the sky twinkle twinkle little star how i wonder what you are \")"
   ]
  },
  {
   "cell_type": "code",
   "execution_count": 3,
   "id": "079c85ff",
   "metadata": {},
   "outputs": [
    {
     "name": "stdout",
     "output_type": "stream",
     "text": [
      "python version\n",
      "3.9.7 (default, Sep 16 2021, 16:59:28) [MSC v.1916 64 bit (AMD64)]\n",
      "python info\n",
      "sys.version_info(major=3, minor=9, micro=7, releaselevel='final', serial=0)\n"
     ]
    }
   ],
   "source": [
    "import sys\n",
    "print(\"python version\")\n",
    "print(sys.version)\n",
    "print(\"python info\")\n",
    "print(sys.version_info)"
   ]
  },
  {
   "cell_type": "code",
   "execution_count": 4,
   "id": "bbc0c3c4",
   "metadata": {},
   "outputs": [
    {
     "name": "stdout",
     "output_type": "stream",
     "text": [
      "current date and time\n",
      "21-12-30 15:45:53\n"
     ]
    }
   ],
   "source": [
    "import datetime\n",
    "now=datetime.datetime.now()\n",
    "print(\"current date and time\")\n",
    "print(now.strftime(\"%y-%m-%d %H:%M:%S\"))"
   ]
  },
  {
   "cell_type": "code",
   "execution_count": 11,
   "id": "b97cf2c8",
   "metadata": {},
   "outputs": [
    {
     "name": "stdout",
     "output_type": "stream",
     "text": [
      "Enter radius of circle5\n",
      "Area of a circle is 78.55\n"
     ]
    }
   ],
   "source": [
    "print(\"Area of a circle is\",3.142*int(input(\"Enter radius of circle\"))**2)"
   ]
  },
  {
   "cell_type": "code",
   "execution_count": 12,
   "id": "4c3053cc",
   "metadata": {},
   "outputs": [
    {
     "name": "stdout",
     "output_type": "stream",
     "text": [
      "Enter your first name:Sarosh\n",
      "Enter your last name:Javed\n",
      "Hello Javed Sarosh\n"
     ]
    }
   ],
   "source": [
    "f=input(\"Enter your first name:\")\n",
    "l=input(\"Enter your last name:\")\n",
    "print(\"Hello\",l, f)"
   ]
  },
  {
   "cell_type": "code",
   "execution_count": 15,
   "id": "9d32d053",
   "metadata": {},
   "outputs": [
    {
     "name": "stdout",
     "output_type": "stream",
     "text": [
      "Enter the value for x=50\n",
      "Enter the value of y=50\n",
      "100\n"
     ]
    }
   ],
   "source": [
    "x=int(input(\"Enter the value for x=\"))\n",
    "y=int(input(\"Enter the value of y=\"))\n",
    "z=x+y\n",
    "print(z)"
   ]
  },
  {
   "cell_type": "code",
   "execution_count": null,
   "id": "36e90ade",
   "metadata": {},
   "outputs": [],
   "source": []
  }
 ],
 "metadata": {
  "kernelspec": {
   "display_name": "Python 3 (ipykernel)",
   "language": "python",
   "name": "python3"
  },
  "language_info": {
   "codemirror_mode": {
    "name": "ipython",
    "version": 3
   },
   "file_extension": ".py",
   "mimetype": "text/x-python",
   "name": "python",
   "nbconvert_exporter": "python",
   "pygments_lexer": "ipython3",
   "version": "3.9.7"
  }
 },
 "nbformat": 4,
 "nbformat_minor": 5
}
